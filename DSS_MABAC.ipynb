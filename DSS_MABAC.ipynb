{
  "nbformat": 4,
  "nbformat_minor": 0,
  "metadata": {
    "colab": {
      "provenance": [],
      "include_colab_link": true
    },
    "kernelspec": {
      "name": "python3",
      "display_name": "Python 3"
    },
    "language_info": {
      "name": "python"
    }
  },
  "cells": [
    {
      "cell_type": "markdown",
      "metadata": {
        "id": "view-in-github",
        "colab_type": "text"
      },
      "source": [
        "<a href=\"https://colab.research.google.com/github/noora20FH/Python/blob/main/DSS_MABAC.ipynb\" target=\"_parent\"><img src=\"https://colab.research.google.com/assets/colab-badge.svg\" alt=\"Open In Colab\"/></a>"
      ]
    },
    {
      "cell_type": "markdown",
      "source": [
        "Afrizal\n",
        "\n",
        "Lelyta\n",
        "\n",
        "Noora Aulia Hidayat\n",
        "\n",
        "TI-3I"
      ],
      "metadata": {
        "id": "i1_orBboKYs6"
      }
    },
    {
      "cell_type": "code",
      "source": [
        "import numpy as np\n",
        "\n",
        "def dss_mabac(criteria, alternatives, weights, preferences):\n",
        "    num_criteria = len(criteria)\n",
        "    num_alternatives = len(alternatives)\n",
        "    \n",
        "    # Step 1: Normalize the preference matrix\n",
        "    normalized_preferences = np.zeros((num_criteria, num_alternatives, num_alternatives))\n",
        "    for i in range(num_criteria):\n",
        "        max_value = np.max(preferences[i])\n",
        "        min_value = np.min(preferences[i])\n",
        "        normalized_preferences[i] = (preferences[i] - min_value) / (max_value - min_value)\n",
        "    \n",
        "    # Step 2: Calculate the weighted normalized matrix\n",
        "    weighted_normalized_matrix = np.zeros((num_criteria, num_alternatives, num_alternatives))\n",
        "    for i in range(num_criteria):\n",
        "        weighted_normalized_matrix[i] = normalized_preferences[i] * weights[i]\n",
        "    \n",
        "    # Step 3: Calculate the relative closeness coefficient\n",
        "    relative_closeness_coefficient = np.zeros(num_alternatives)\n",
        "    for j in range(num_alternatives):\n",
        "        numerator = np.prod(weighted_normalized_matrix[:, :, j], axis=(0, 1))\n",
        "        denominator = np.sum(weighted_normalized_matrix[:, :, j])\n",
        "        relative_closeness_coefficient[j] = numerator / denominator\n",
        "    \n",
        "    # Step 4: Rank the alternatives based on the relative closeness coefficient\n",
        "    rankings = np.argsort(-relative_closeness_coefficient)\n",
        "    \n",
        "    return rankings\n",
        "\n",
        "# Example usage\n",
        "criteria = ['Criteria 1', 'Criteria 2', 'Criteria 3']\n",
        "alternatives = ['Alternative 1', 'Alternative 2', 'Alternative 3', 'Alternative 4']\n",
        "weights = [0.4, 0.3, 0.3]\n",
        "preferences = np.array([\n",
        "    [[1, 3, 2, 4], [4, 1, 3, 2], [2, 3, 1, 4], [4, 2, 3, 1]],\n",
        "    [[1, 2, 4, 3], [2, 1, 3, 4], [4, 3, 1, 2], [3, 4, 2, 1]],\n",
        "    [[1, 2, 3, 4], [3, 1, 4, 2], [2, 4, 1, 3], [4, 3, 2, 1]]\n",
        "])\n",
        "\n",
        "rankings = dss_mabac(criteria, alternatives, weights, preferences)\n",
        "\n",
        "# Print the rankings\n",
        "for rank, alternative in enumerate(rankings):\n",
        "    print(f\"Rank {rank+1}: {alternatives[alternative]}\")\n"
      ],
      "metadata": {
        "colab": {
          "base_uri": "https://localhost:8080/"
        },
        "id": "VFYi9DKJCC_h",
        "outputId": "3f954621-d191-41ad-d9b7-34f5bd2c6427"
      },
      "execution_count": 1,
      "outputs": [
        {
          "output_type": "stream",
          "name": "stdout",
          "text": [
            "Rank 1: Alternative 1\n",
            "Rank 2: Alternative 2\n",
            "Rank 3: Alternative 3\n",
            "Rank 4: Alternative 4\n"
          ]
        }
      ]
    }
  ]
}