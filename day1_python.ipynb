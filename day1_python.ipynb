{
  "cells": [
    {
      "cell_type": "markdown",
      "source": [
        "#python version\n"
      ],
      "metadata": {
        "id": "DxoogWoOK5mY"
      }
    },
    {
      "cell_type": "code",
      "source": [
        "import sys\n",
        "print(sys.version)\n",
        "print(sys.version.split()[0])\n",
        "\n",
        "\n",
        "import platform\n",
        "print(platform.python_version())\n",
        "\n",
        "import sysconfig\n",
        "print(sysconfig.get_python_version())"
      ],
      "metadata": {
        "colab": {
          "base_uri": "https://localhost:8080/"
        },
        "id": "yF2_tON5K54G",
        "outputId": "bd659d96-01c3-480b-9117-5ffc1a4c207f"
      },
      "execution_count": 6,
      "outputs": [
        {
          "output_type": "stream",
          "name": "stdout",
          "text": [
            "3.9.16 (main, Dec  7 2022, 01:11:51) \n",
            "[GCC 9.4.0]\n",
            "3.9.16\n",
            "3.9.16\n",
            "3.9\n"
          ]
        }
      ]
    },
    {
      "cell_type": "markdown",
      "source": [
        "#np.all() & np.any()"
      ],
      "metadata": {
        "id": "hKTsdr59QK2w"
      }
    },
    {
      "cell_type": "markdown",
      "source": [
        "The code you provided is using the zip() function to iterate over two lists in parallel: the list of letters 'ABCD' and the list of arrays [A, B, C, D]. It creates a temporary tuple for each pair of corresponding elements in the two lists and assigns the elements to the variables name and array, respectively."
      ],
      "metadata": {
        "id": "yi5xjxvHO9KJ"
      }
    },
    {
      "cell_type": "markdown",
      "source": [
        "NumPy's \"all\" function to check if all elements in each row of the arrays are non-zero (i.e., True) along the row axis (i.e., axis=1)\n",
        "\n",
        "axis = coloumn"
      ],
      "metadata": {
        "id": "rHiQrcTMVAzt"
      }
    },
    {
      "cell_type": "code",
      "source": [
        "import numpy as np\n",
        "\n",
        "\n",
        "A = np.array([[3, 2, 1, 4],\n",
        "              [5, 2, 1, 6]])\n",
        "\n",
        "B = np.array([[3, 2, 1, 4],\n",
        "              [5, 2, 0, 6]])\n",
        "\n",
        "C = np.array([[True, False, False],\n",
        "              [True, True, True]])\n",
        "\n",
        "D = np.array([0.1, 0.3])\n",
        "\n",
        "\n",
        "for name, array in zip(list('ABCD'),[A,B,C,D]):\n",
        "  print(f'{name}: {np.all(array)}')"
      ],
      "metadata": {
        "colab": {
          "base_uri": "https://localhost:8080/"
        },
        "id": "AkboniDZOAAu",
        "outputId": "45c9c877-1157-46d3-ab21-7467bdbbf0c0"
      },
      "execution_count": 7,
      "outputs": [
        {
          "output_type": "stream",
          "name": "stdout",
          "text": [
            "A: True\n",
            "B: False\n",
            "C: False\n",
            "D: True\n"
          ]
        }
      ]
    },
    {
      "cell_type": "markdown",
      "source": [
        "Check if all elements from the following arrays return the logical value True along the axis with index 1:\n",
        "\n",
        "\n",
        " you have defined four arrays named \"A\", \"B\", \"C\", and \"D\". It then uses the \"zip\" function to iterate over a list of names ('A', 'B', 'C', 'D') and the corresponding arrays. For each pair of name and array, it checks if all the elements in the array are True using the \"np.all\" function"
      ],
      "metadata": {
        "id": "WOQEfTx7PpfN"
      }
    },
    {
      "cell_type": "code",
      "source": [
        "import numpy as np\n",
        "\n",
        "\n",
        "A = np.array([[3, 2, 1, 4],\n",
        "              [5, 2, 1, 6]])\n",
        "\n",
        "B = np.array([[3, 2, 1, 4],\n",
        "              [5, 2, 0, 6]])\n",
        "\n",
        "C = np.array([[True, False, False],\n",
        "              [True, True, True]])\n",
        "\n",
        "for name, array in zip(list('ABC'),[A,B,C]):\n",
        "  print(f'{name}: {np.all(array, axis=1)}')"
      ],
      "metadata": {
        "colab": {
          "base_uri": "https://localhost:8080/"
        },
        "id": "XlzWF74xP1CV",
        "outputId": "0733a64c-b7ab-43c6-b090-5c552425b98e"
      },
      "execution_count": 9,
      "outputs": [
        {
          "output_type": "stream",
          "name": "stdout",
          "text": [
            "A: [ True  True]\n",
            "B: [ True False]\n",
            "C: [False  True]\n"
          ]
        }
      ]
    },
    {
      "cell_type": "markdown",
      "source": [
        "np.any() function from NumPy is called to determine whether the array contains any elements that evaluate to True. \n",
        "\n",
        "If an array contains at least one True element, the output will be TRUE\n",
        "\n",
        "If an array contains only False elements, the output will be FALSE"
      ],
      "metadata": {
        "id": "oNbjRvPWSQiv"
      }
    },
    {
      "cell_type": "code",
      "source": [
        "import numpy as np\n",
        "\n",
        "\n",
        "A = np.array([[0, 0, 0],\n",
        "              [0, 0, 0]])\n",
        "\n",
        "B = np.array([[0, 0, 0],\n",
        "              [0, 1, 0]])\n",
        "\n",
        "C = np.array([[False, False, False],\n",
        "              [True, False, False]])\n",
        "\n",
        "D = np.array([[0.1, 0.0]])\n",
        "\n",
        "for name, array in zip(list('ABCD'), [A,B,C,D]):\n",
        "    print(f'{name}: {np.any(array)}')"
      ],
      "metadata": {
        "colab": {
          "base_uri": "https://localhost:8080/"
        },
        "id": "JDoGTeJZSa8s",
        "outputId": "7caa4353-f3ba-43f1-98b7-4b62adc8791a"
      },
      "execution_count": 10,
      "outputs": [
        {
          "output_type": "stream",
          "name": "stdout",
          "text": [
            "A: False\n",
            "B: True\n",
            "C: True\n",
            "D: True\n"
          ]
        }
      ]
    }
  ],
  "metadata": {
    "colab": {
      "provenance": []
    },
    "kernelspec": {
      "display_name": "Python 3",
      "name": "python3"
    },
    "language_info": {
      "name": "python"
    }
  },
  "nbformat": 4,
  "nbformat_minor": 0
}